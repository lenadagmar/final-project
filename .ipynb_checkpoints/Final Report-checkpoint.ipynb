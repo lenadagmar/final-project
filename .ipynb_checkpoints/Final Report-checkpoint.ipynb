{
 "cells": [
  {
   "cell_type": "markdown",
   "metadata": {},
   "source": [
    "## Pretty Pretty Pittsburgh\n",
    "\n",
    "Lena and Vaishu"
   ]
  },
  {
   "cell_type": "markdown",
   "metadata": {},
   "source": [
    "**Introduction**\n",
    "\n",
    "Our project sets out to decide on which Pittsburgh neighborhood is the prettiest. While brainstorming measurable factors to determine the beauty of each neighborhood, we searched for datasets that recorded instances of different pretty, or visually pleasant aspects that could be attributed to neighborhoods. We decided to look at the amount of public art displays, greenways, parks, and bridges, a factor which is uniquely significant to Pittsburgh as a city.\n"
   ]
  },
  {
   "cell_type": "markdown",
   "metadata": {},
   "source": [
    "**Metric**\n",
    "\n",
    "Our metric is *prettiness*, which we will measure by analyzing the amounts of public art displays, greenways, parks and bridges in each neighborhood. The prettiest neighborhood will be determined by looking at the neighborhood with the most instances of these features combined."
   ]
  },
  {
   "cell_type": "markdown",
   "metadata": {},
   "source": [
    "**The Prettiest Neighboorhood**"
   ]
  },
  {
   "cell_type": "markdown",
   "metadata": {},
   "source": [
    "The first metric we will look at is **Public Art**"
   ]
  },
  {
   "cell_type": "code",
   "execution_count": 7,
   "metadata": {},
   "outputs": [
    {
     "data": {
      "text/html": [
       "<div>\n",
       "<style scoped>\n",
       "    .dataframe tbody tr th:only-of-type {\n",
       "        vertical-align: middle;\n",
       "    }\n",
       "\n",
       "    .dataframe tbody tr th {\n",
       "        vertical-align: top;\n",
       "    }\n",
       "\n",
       "    .dataframe thead th {\n",
       "        text-align: right;\n",
       "    }\n",
       "</style>\n",
       "<table border=\"1\" class=\"dataframe\">\n",
       "  <thead>\n",
       "    <tr style=\"text-align: right;\">\n",
       "      <th></th>\n",
       "      <th>0</th>\n",
       "    </tr>\n",
       "  </thead>\n",
       "  <tbody>\n",
       "    <tr>\n",
       "      <th>Central Business District</th>\n",
       "      <td>27</td>\n",
       "    </tr>\n",
       "    <tr>\n",
       "      <th>Squirrel Hill South</th>\n",
       "      <td>20</td>\n",
       "    </tr>\n",
       "    <tr>\n",
       "      <th>Allegheny Center</th>\n",
       "      <td>18</td>\n",
       "    </tr>\n",
       "    <tr>\n",
       "      <th>Highland Park</th>\n",
       "      <td>10</td>\n",
       "    </tr>\n",
       "    <tr>\n",
       "      <th>South Side Flats</th>\n",
       "      <td>9</td>\n",
       "    </tr>\n",
       "    <tr>\n",
       "      <th>North Shore</th>\n",
       "      <td>8</td>\n",
       "    </tr>\n",
       "    <tr>\n",
       "      <th>Beechview</th>\n",
       "      <td>7</td>\n",
       "    </tr>\n",
       "    <tr>\n",
       "      <th>Shadyside</th>\n",
       "      <td>6</td>\n",
       "    </tr>\n",
       "    <tr>\n",
       "      <th>Brighton Heights</th>\n",
       "      <td>5</td>\n",
       "    </tr>\n",
       "    <tr>\n",
       "      <th>Central Oakland</th>\n",
       "      <td>5</td>\n",
       "    </tr>\n",
       "  </tbody>\n",
       "</table>\n",
       "</div>"
      ],
      "text/plain": [
       "                            0\n",
       "Central Business District  27\n",
       "Squirrel Hill South        20\n",
       "Allegheny Center           18\n",
       "Highland Park              10\n",
       "South Side Flats            9\n",
       "North Shore                 8\n",
       "Beechview                   7\n",
       "Shadyside                   6\n",
       "Brighton Heights            5\n",
       "Central Oakland             5"
      ]
     },
     "execution_count": 7,
     "metadata": {},
     "output_type": "execute_result"
    }
   ],
   "source": [
    "import pandas as pd\n",
    "art = pd.read_csv(\"pghArt.csv\")\n",
    "art[['title','art_type','neighborhood']]\n",
    "nbhdArt={}\n",
    "\n",
    "for nbhd in art['neighborhood']:\n",
    "    artCount=0\n",
    "    for item in range(len(art)):\n",
    "        if art.iloc[item,8]==nbhd:\n",
    "            artCount+=1\n",
    "        nbhdArt[nbhd]=artCount\n",
    "    if nbhd not in nbhdArt:\n",
    "        nbhdArt[nbhd]=0\n",
    "\n",
    "nbhds=pd.DataFrame.from_dict(nbhdArt, orient='index')\n",
    "nbhds=nbhds.sort_values(0, ascending=False)\n",
    "nbhds.head(10)"
   ]
  },
  {
   "cell_type": "code",
   "execution_count": 6,
   "metadata": {},
   "outputs": [
    {
     "data": {
      "text/plain": [
       "<matplotlib.axes._subplots.AxesSubplot at 0x7f7a79218520>"
      ]
     },
     "execution_count": 6,
     "metadata": {},
     "output_type": "execute_result"
    },
    {
     "data": {
      "image/png": "[encoded data removed]",
      "text/plain": [
       "<Figure size 432x288 with 1 Axes>"
      ]
     },
     "metadata": {
      "needs_background": "light"
     },
     "output_type": "display_data"
    }
   ],
   "source": [
    "new=\"neighborhoods\"\n",
    "nbhds.index.rename(new, inplace=True)\n",
    "nbhds=(nbhds.loc[nbhds[0] > 4])\n",
    "nbhds[:10].plot(kind='bar', title=\"Number of Public Art Displays\")"
   ]
  },
  {
   "cell_type": "markdown",
   "metadata": {},
   "source": [
    "Above are the prettiest neighborhoods in terms of number of public art displays. In first place is the **Central Business District**, also known as Downtown."
   ]
  },
  {
   "cell_type": "markdown",
   "metadata": {},
   "source": [
    "The second metric we will be looking at is **Bridges**."
   ]
  },
  {
   "cell_type": "code",
   "execution_count": 12,
   "metadata": {},
   "outputs": [
    {
     "data": {
      "text/html": [
       "<div>\n",
       "<style scoped>\n",
       "    .dataframe tbody tr th:only-of-type {\n",
       "        vertical-align: middle;\n",
       "    }\n",
       "\n",
       "    .dataframe tbody tr th {\n",
       "        vertical-align: top;\n",
       "    }\n",
       "\n",
       "    .dataframe thead th {\n",
       "        text-align: right;\n",
       "    }\n",
       "</style>\n",
       "<table border=\"1\" class=\"dataframe\">\n",
       "  <thead>\n",
       "    <tr style=\"text-align: right;\">\n",
       "      <th></th>\n",
       "      <th>0</th>\n",
       "    </tr>\n",
       "  </thead>\n",
       "  <tbody>\n",
       "    <tr>\n",
       "      <th>Squirrel Hill South</th>\n",
       "      <td>14</td>\n",
       "    </tr>\n",
       "    <tr>\n",
       "      <th>Central Business District</th>\n",
       "      <td>12</td>\n",
       "    </tr>\n",
       "    <tr>\n",
       "      <th>Troy Hill</th>\n",
       "      <td>7</td>\n",
       "    </tr>\n",
       "    <tr>\n",
       "      <th>Overbrook</th>\n",
       "      <td>6</td>\n",
       "    </tr>\n",
       "    <tr>\n",
       "      <th>Hays</th>\n",
       "      <td>6</td>\n",
       "    </tr>\n",
       "    <tr>\n",
       "      <th>Shadyside</th>\n",
       "      <td>6</td>\n",
       "    </tr>\n",
       "    <tr>\n",
       "      <th>Oakwood</th>\n",
       "      <td>5</td>\n",
       "    </tr>\n",
       "    <tr>\n",
       "      <th>South Side Slopes</th>\n",
       "      <td>5</td>\n",
       "    </tr>\n",
       "    <tr>\n",
       "      <th>South Side Flats</th>\n",
       "      <td>5</td>\n",
       "    </tr>\n",
       "    <tr>\n",
       "      <th>West End</th>\n",
       "      <td>4</td>\n",
       "    </tr>\n",
       "  </tbody>\n",
       "</table>\n",
       "</div>"
      ],
      "text/plain": [
       "                            0\n",
       "Squirrel Hill South        14\n",
       "Central Business District  12\n",
       "Troy Hill                   7\n",
       "Overbrook                   6\n",
       "Hays                        6\n",
       "Shadyside                   6\n",
       "Oakwood                     5\n",
       "South Side Slopes           5\n",
       "South Side Flats            5\n",
       "West End                    4"
      ]
     },
     "execution_count": 12,
     "metadata": {},
     "output_type": "execute_result"
    }
   ],
   "source": [
    "import pandas as pd\n",
    "nbhdBridges = {}\n",
    "\n",
    "for nbhd in bridges['neighborhood']:\n",
    "    bridgeCount = 0\n",
    "    for bridge in range(len(bridges)):\n",
    "        if bridges.iloc[bridge, 8] == nbhd:\n",
    "            bridgeCount += 1\n",
    "        nbhdBridges[nbhd] = bridgeCount\n",
    "    if nbhd not in nbhdBridges:\n",
    "        nbhdBridges[nbhd] = 0\n",
    "    \n",
    "nbhds = pd.DataFrame.from_dict(nbhdBridges, orient = 'index')\n",
    "nbhds = nbhds.sort_values(0, ascending = False)\n",
    "nbhds.head(10)"
   ]
  },
  {
   "cell_type": "code",
   "execution_count": 9,
   "metadata": {},
   "outputs": [
    {
     "data": {
      "text/plain": [
       "<matplotlib.axes._subplots.AxesSubplot at 0x7f33e8cd4250>"
      ]
     },
     "execution_count": 9,
     "metadata": {},
     "output_type": "execute_result"
    },
    {
     "data": {
      "image/png": "[encoded data removed]",
      "text/plain": [
       "<Figure size 432x288 with 1 Axes>"
      ]
     },
     "metadata": {
      "needs_background": "light"
     },
     "output_type": "display_data"
    }
   ],
   "source": [
    "new = \"neighborhoods\"\n",
    "nbhds.index.rename(new, inplace = True)\n",
    "nbhds = (nbhds.loc[nbhds[0] > 3])\n",
    "nbhds[:10].plot(kind = 'bar', title = \"Number of Bridges\")"
   ]
  },
  {
   "cell_type": "markdown",
   "metadata": {},
   "source": [
    "Above are the prettiest neighborhoods in terms of number of bridges. In first place is **Squirrel Hill South**."
   ]
  },
  {
   "cell_type": "markdown",
   "metadata": {},
   "source": [
    "The third metric we will be looking at are **Parks**."
   ]
  },
  {
   "cell_type": "code",
   "execution_count": 8,
   "metadata": {},
   "outputs": [
    {
     "data": {
      "text/html": [
       "<div>\n",
       "<style scoped>\n",
       "    .dataframe tbody tr th:only-of-type {\n",
       "        vertical-align: middle;\n",
       "    }\n",
       "\n",
       "    .dataframe tbody tr th {\n",
       "        vertical-align: top;\n",
       "    }\n",
       "\n",
       "    .dataframe thead th {\n",
       "        text-align: right;\n",
       "    }\n",
       "</style>\n",
       "<table border=\"1\" class=\"dataframe\">\n",
       "  <thead>\n",
       "    <tr style=\"text-align: right;\">\n",
       "      <th></th>\n",
       "      <th>0</th>\n",
       "    </tr>\n",
       "  </thead>\n",
       "  <tbody>\n",
       "    <tr>\n",
       "      <th>East Liberty</th>\n",
       "      <td>10</td>\n",
       "    </tr>\n",
       "    <tr>\n",
       "      <th>Central Business District</th>\n",
       "      <td>9</td>\n",
       "    </tr>\n",
       "    <tr>\n",
       "      <th>Beechview</th>\n",
       "      <td>6</td>\n",
       "    </tr>\n",
       "    <tr>\n",
       "      <th>Mount Washington</th>\n",
       "      <td>6</td>\n",
       "    </tr>\n",
       "    <tr>\n",
       "      <th>Hazelwood</th>\n",
       "      <td>6</td>\n",
       "    </tr>\n",
       "    <tr>\n",
       "      <th>Point Breeze</th>\n",
       "      <td>6</td>\n",
       "    </tr>\n",
       "    <tr>\n",
       "      <th>South Side Slopes</th>\n",
       "      <td>5</td>\n",
       "    </tr>\n",
       "    <tr>\n",
       "      <th>South Oakland</th>\n",
       "      <td>5</td>\n",
       "    </tr>\n",
       "    <tr>\n",
       "      <th>Brighton Heights</th>\n",
       "      <td>4</td>\n",
       "    </tr>\n",
       "    <tr>\n",
       "      <th>Central Northside</th>\n",
       "      <td>3</td>\n",
       "    </tr>\n",
       "  </tbody>\n",
       "</table>\n",
       "</div>"
      ],
      "text/plain": [
       "                            0\n",
       "East Liberty               10\n",
       "Central Business District   9\n",
       "Beechview                   6\n",
       "Mount Washington            6\n",
       "Hazelwood                   6\n",
       "Point Breeze                6\n",
       "South Side Slopes           5\n",
       "South Oakland               5\n",
       "Brighton Heights            4\n",
       "Central Northside           3"
      ]
     },
     "execution_count": 8,
     "metadata": {},
     "output_type": "execute_result"
    }
   ],
   "source": [
    "import pandas as pd\n",
    "\n",
    "parkSeries = pd.Series(parks['type'])\n",
    "parkQueryMask = parkSeries.str.contains(\"Park\")\n",
    "parkTypes = parks[parkQueryMask]\n",
    "parkTypes.head(5)\n",
    "parks = pd.read_csv(\"pghParks.csv\")\n",
    "nbhdJustParks = {}\n",
    "\n",
    "for nbhd in parkTypes['neighborhood']:\n",
    "    parkCount = 0\n",
    "    for park in range(len(parkTypes)):\n",
    "        if parks.iloc[park, 6] == nbhd:\n",
    "            parkCount += 1\n",
    "        nbhdParks[nbhd] = parkCount\n",
    "    if nbhd not in nbhdParks:\n",
    "        nbhdParks[nbhd] = 0\n",
    "    \n",
    "nbhdJustParks = pd.DataFrame.from_dict(nbhdParks, orient = 'index')\n",
    "nbhdJustParks = nbhdJustParks.sort_values(0, ascending = False)\n",
    "nbhdJustParks.head(10)"
   ]
  },
  {
   "cell_type": "code",
   "execution_count": 11,
   "metadata": {},
   "outputs": [
    {
     "data": {
      "text/plain": [
       "<matplotlib.axes._subplots.AxesSubplot at 0x7fe69e907af0>"
      ]
     },
     "execution_count": 11,
     "metadata": {},
     "output_type": "execute_result"
    },
    {
     "data": {
      "image/png": "[encoded data removed]",
      "text/plain": [
       "<Figure size 432x288 with 1 Axes>"
      ]
     },
     "metadata": {
      "needs_background": "light"
     },
     "output_type": "display_data"
    }
   ],
   "source": [
    "nbhdJustParks=(nbhdJustParks.loc[nbhdJustParks[0] > 2])\n",
    "nbhdJustParks.head(10)\n",
    "nbhds[:10].plot(kind = 'bar', title = \"Number of Parks\")"
   ]
  },
  {
   "cell_type": "markdown",
   "metadata": {},
   "source": [
    "Above are the prettiest neighborhoods in terms of number of parks. In first place is **East Liberty**."
   ]
  },
  {
   "cell_type": "code",
   "execution_count": null,
   "metadata": {},
   "outputs": [],
   "source": []
  }
 ],
 "metadata": {
  "kernelspec": {
   "display_name": "Python 3",
   "language": "python",
   "name": "python3"
  },
  "language_info": {
   "codemirror_mode": {
    "name": "ipython",
    "version": 3
   },
   "file_extension": ".py",
   "mimetype": "text/x-python",
   "name": "python",
   "nbconvert_exporter": "python",
   "pygments_lexer": "ipython3",
   "version": "3.8.3"
  }
 },
 "nbformat": 4,
 "nbformat_minor": 4
}
