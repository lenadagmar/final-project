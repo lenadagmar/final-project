{
 "cells": [
  {
   "cell_type": "markdown",
   "metadata": {},
   "source": [
    "There are a handful of greenways in Pittsburgh that we will be looking at to determine the prettiest neighborhood in. First, we will look at the number of acres that each greenway is and the bigger it is, the 'prettier' that it is because that means there is more greenery. Also, as there is not nearly as much data for the greenways as there is for our other datasets, this dataset will act as the decider. For example, if the other 3 datasets are tied between two neighborhoods, but one has a greenway and the other doesn't, the one with the greenway will win."
   ]
  },
  {
   "cell_type": "code",
   "execution_count": 2,
   "metadata": {},
   "outputs": [
    {
     "data": {
      "text/html": [
       "<div>\n",
       "<style scoped>\n",
       "    .dataframe tbody tr th:only-of-type {\n",
       "        vertical-align: middle;\n",
       "    }\n",
       "\n",
       "    .dataframe tbody tr th {\n",
       "        vertical-align: top;\n",
       "    }\n",
       "\n",
       "    .dataframe thead th {\n",
       "        text-align: right;\n",
       "    }\n",
       "</style>\n",
       "<table border=\"1\" class=\"dataframe\">\n",
       "  <thead>\n",
       "    <tr style=\"text-align: right;\">\n",
       "      <th></th>\n",
       "      <th>name</th>\n",
       "      <th>acres</th>\n",
       "      <th>neighborhood</th>\n",
       "    </tr>\n",
       "  </thead>\n",
       "  <tbody>\n",
       "    <tr>\n",
       "      <th>0</th>\n",
       "      <td>Beechview Seldom Seen</td>\n",
       "      <td>42.675374</td>\n",
       "      <td>Beechview</td>\n",
       "    </tr>\n",
       "    <tr>\n",
       "      <th>1</th>\n",
       "      <td>Moore</td>\n",
       "      <td>27.584380</td>\n",
       "      <td>Brookline</td>\n",
       "    </tr>\n",
       "    <tr>\n",
       "      <th>2</th>\n",
       "      <td>Nine Mile Run</td>\n",
       "      <td>11.671078</td>\n",
       "      <td>Squirrel Hill South</td>\n",
       "    </tr>\n",
       "    <tr>\n",
       "      <th>3</th>\n",
       "      <td>Perry South</td>\n",
       "      <td>12.812969</td>\n",
       "      <td>Perry South</td>\n",
       "    </tr>\n",
       "    <tr>\n",
       "      <th>4</th>\n",
       "      <td>Bigelow</td>\n",
       "      <td>24.192173</td>\n",
       "      <td>Lower Lawrenceville</td>\n",
       "    </tr>\n",
       "    <tr>\n",
       "      <th>5</th>\n",
       "      <td>Observatory Hill Hollows</td>\n",
       "      <td>17.937867</td>\n",
       "      <td>Perry North</td>\n",
       "    </tr>\n",
       "    <tr>\n",
       "      <th>6</th>\n",
       "      <td>Allegheny River</td>\n",
       "      <td>34.982359</td>\n",
       "      <td>North Shore</td>\n",
       "    </tr>\n",
       "    <tr>\n",
       "      <th>7</th>\n",
       "      <td>Oakcliffe</td>\n",
       "      <td>5.111200</td>\n",
       "      <td>South Oakland</td>\n",
       "    </tr>\n",
       "    <tr>\n",
       "      <th>8</th>\n",
       "      <td>Spring Hill Spring Garden</td>\n",
       "      <td>47.389975</td>\n",
       "      <td>Spring Garden</td>\n",
       "    </tr>\n",
       "    <tr>\n",
       "      <th>9</th>\n",
       "      <td>Hazelwood</td>\n",
       "      <td>3.132885</td>\n",
       "      <td>Hazelwood</td>\n",
       "    </tr>\n",
       "  </tbody>\n",
       "</table>\n",
       "</div>"
      ],
      "text/plain": [
       "                        name      acres         neighborhood\n",
       "0      Beechview Seldom Seen  42.675374            Beechview\n",
       "1                      Moore  27.584380            Brookline\n",
       "2              Nine Mile Run  11.671078  Squirrel Hill South\n",
       "3                Perry South  12.812969          Perry South\n",
       "4                    Bigelow  24.192173  Lower Lawrenceville\n",
       "5   Observatory Hill Hollows  17.937867          Perry North\n",
       "6            Allegheny River  34.982359          North Shore\n",
       "7                  Oakcliffe   5.111200        South Oakland\n",
       "8  Spring Hill Spring Garden  47.389975        Spring Garden\n",
       "9                  Hazelwood   3.132885            Hazelwood"
      ]
     },
     "execution_count": 2,
     "metadata": {},
     "output_type": "execute_result"
    }
   ],
   "source": [
    "import pandas as pd\n",
    "greenways = pd.read_csv(\"greenways.csv\")\n",
    "greenways[['name', 'acres', 'neighborhood']]"
   ]
  },
  {
   "cell_type": "code",
   "execution_count": null,
   "metadata": {},
   "outputs": [],
   "source": []
  }
 ],
 "metadata": {
  "kernelspec": {
   "display_name": "Python 3",
   "language": "python",
   "name": "python3"
  },
  "language_info": {
   "codemirror_mode": {
    "name": "ipython",
    "version": 3
   },
   "file_extension": ".py",
   "mimetype": "text/x-python",
   "name": "python",
   "nbconvert_exporter": "python",
   "pygments_lexer": "ipython3",
   "version": "3.8.3"
  }
 },
 "nbformat": 4,
 "nbformat_minor": 4
}
