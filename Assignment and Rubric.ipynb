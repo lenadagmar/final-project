{
 "cells": [
  {
   "cell_type": "markdown",
   "metadata": {},
   "source": [
    "### Introduction:\n",
    "Introduce the project, and your approach, talk about the process of how you came up with the metric and some alternatives you may have explored.\n",
    "### The Metric: \n",
    "Describe your metric, and what features are you measuring. What datasets are you using?\n",
    "### The Best Neighborhood: \n",
    "Apply the metric from the previous section to determine the best neighborhood in Pittsburgh. Beyond just executing code, provide a narrative about why you think this is the best neighborhood. Incorporate a data visualization, perhaps to rank all of the neighborhoods or show a neighborhood’s best-ness over time. The key is to make a data driven argument.\n",
    "### Conclusion: \n",
    "Reflect on how the data-driven determination of “best neighborhood” is the same or different from your personal favorite neighborhood. Each member of the group should write their own response to this.\n",
    "\n",
    "### Submitting your assignment:\n",
    "Each group needs to submit a link to a GitHub repository containing their work for the project. If you joined a final project group correctly on Canvas, only one of you will need to submit it. You do not need to upload your Notebook files - if you submit your repository link, we will be able to view your notebook from within the web browser.\n",
    "\n",
    "Please make sure your repository is public before you submit. If your repository is private you will temporarily receive a 0 until you make it public.\n",
    "\n",
    "### Each group’s Github repository should contain:\n",
    "\n",
    "A Combined notebook / Presentation Notebook with a conclusion paragraph from each group member.\n",
    "A Jupyter Notebook from each group member with their dataset, analysis, and answer. This will allow us to verify that each team member pulled his/her weight.\n",
    "A Readme with the following information:\n",
    "Team name\n",
    "Team member's names and email addresses\n",
    "Additionally, your README should tell us which individual analysis notebooks belong to which team members\n",
    "Canvas group number\n",
    "Description and Links to the datasets used\n",
    "A one-sentence overview of your repository, meant for someone who is not familiar with the project"
   ]
  },
  {
   "cell_type": "markdown",
   "metadata": {},
   "source": [
    "### Grading rubric\n",
    "Progress check-in: 10 points\n",
    "\n",
    "Dataset selection: 5 points\n",
    "\n",
    "Preliminary Analysis: 5 points\n",
    " \n",
    "\n",
    "Final presentation: 35 points\n",
    "\n",
    "Introduction (motivation, context, etc.): 4 points\n",
    "\n",
    "Metric explanation: 5 points\n",
    "\n",
    "Dataset(s) explanation: 5 points\n",
    "\n",
    "Results explanation: 5 points\n",
    "\n",
    "Code explanation: 5 points\n",
    "\n",
    "Conclusion: 4 points\n",
    "\n",
    "Answers to peers’ questions: 5 points\n",
    "\n",
    "Timing: 2 points\n",
    " \n",
    "\n",
    "Final jupyter notebook: 55 points\n",
    "\n",
    "README: 5 points\n",
    "\n",
    "Code runs: 5 points\n",
    "\n",
    "Uses at least one dataset: 5 points\n",
    "\n",
    "Uses pandas: 10 points\n",
    "\n",
    "Uses visualization (eg. matplotlib, geopandas, etc.): 10 points\n",
    "\n",
    "Logical flow is coherent: 5 points\n",
    "\n",
    "Insightful conclusion: 10 points\n",
    "\n",
    "Overall quality: 5 points"
   ]
  },
  {
   "cell_type": "code",
   "execution_count": null,
   "metadata": {},
   "outputs": [],
   "source": []
  }
 ],
 "metadata": {
  "kernelspec": {
   "display_name": "Python 3",
   "language": "python",
   "name": "python3"
  },
  "language_info": {
   "codemirror_mode": {
    "name": "ipython",
    "version": 3
   },
   "file_extension": ".py",
   "mimetype": "text/x-python",
   "name": "python",
   "nbconvert_exporter": "python",
   "pygments_lexer": "ipython3",
   "version": "3.8.3"
  }
 },
 "nbformat": 4,
 "nbformat_minor": 4
}
